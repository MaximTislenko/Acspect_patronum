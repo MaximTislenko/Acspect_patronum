{
  "nbformat": 4,
  "nbformat_minor": 0,
  "metadata": {
    "colab": {
      "provenance": [],
      "authorship_tag": "ABX9TyMhZqfNihO8ONfhOvpE73aW",
      "include_colab_link": true
    },
    "kernelspec": {
      "name": "python3",
      "display_name": "Python 3"
    },
    "language_info": {
      "name": "python"
    }
  },
  "cells": [
    {
      "cell_type": "markdown",
      "metadata": {
        "id": "view-in-github",
        "colab_type": "text"
      },
      "source": [
        "<a href=\"https://colab.research.google.com/github/MaximTislenko/Acspect_patronum/blob/main/Vozr_002.ipynb\" target=\"_parent\"><img src=\"https://colab.research.google.com/assets/colab-badge.svg\" alt=\"Open In Colab\"/></a>"
      ]
    },
    {
      "cell_type": "code",
      "execution_count": null,
      "metadata": {
        "id": "-172EmEthfyh"
      },
      "outputs": [],
      "source": [
        "from datetime import *\n",
        "from dateutil.relativedelta import *"
      ]
    },
    {
      "cell_type": "code",
      "source": [
        "import telebot\n",
        "# import datetime\n",
        "from datetime import *\n",
        "from dateutil.relativedelta import *\n",
        "\n",
        "bot = telebot.TeleBot('7034690129:AAGWxyn93bL8ekYWen7tZmceWQTeaAIcvHo')\n",
        "\n",
        "def calculate_age(birthdate):\n",
        "    \"\"\"\n",
        "    Рассчитывает возраст в годах по дате рождения.\n",
        "\n",
        "    Аргументы:\n",
        "        birthdate: Дата рождения в формате datetime.date.\n",
        "\n",
        "    Возвращает:\n",
        "        Возраст в годах (int).\n",
        "    \"\"\"\n",
        "    today = datetime.now().date()\n",
        "    age_years = relativedelta(today, birthdate).years\n",
        "    age_months = relativedelta(today, birthdate).months\n",
        "    age = relativedelta(today, birthdate)\n",
        "    return age\n",
        "    return age_years\n",
        "    return age_months\n",
        "\n",
        "@bot.message_handler(commands=[\"help\", \"start\"])\n",
        "def send_welcome(message):\n",
        "    bot.send_message(message.chat.id, \"Введите возраст в формате(dd.mm.yyyy): \")\n",
        "\n",
        "\n",
        "@bot.message_handler(content_types=[\"text\"])\n",
        "def handle_text(message):\n",
        "    birthdate_str = message.text\n",
        "    birthdate = datetime.strptime(birthdate_str, \"%d.%m.%Y\").date()\n",
        "    age = calculate_age(birthdate)\n",
        "    age_years = calculate_age(birthdate).years\n",
        "    age_months = calculate_age(birthdate).months\n",
        "    if age_years == 0:\n",
        "      text = f'Возраст: {age_months} мес.'\n",
        "    if age_years == 1:\n",
        "      text = f'Возраст: {age_years} год  {age_months} мес.'\n",
        "    if 2 <= age_years <= 4:\n",
        "      text = f'Возраст: {age_years} года  {age_months} мес.'\n",
        "    if 5 <= age_years <= 20:\n",
        "      text = f'Возраст: {age_years} лет  {age_months} мес.'\n",
        "    if age_years % 10 == 1 and age_years >20:\n",
        "      text = f'Возраст: {age_years} год  {age_months} мес.'\n",
        "    if 2 <= age_years % 10 <= 4 and age_years >20:\n",
        "      text = f'Возраст: {age_years} года  {age_months} мес.'\n",
        "    if 5 <= age_years % 10 <= 9 and age_years > 20:\n",
        "      text = f'Возраст: {age_years} лет  {age_months} мес.'\n",
        "    if age_years % 10 == 0 and age_years > 20:\n",
        "      text = f'Возраст: {age_years} лет  {age_months} мес.'\n",
        "\n",
        "\n",
        "    bot.send_message(chat_id=message.chat.id, text=text)\n",
        "\n",
        "bot.infinity_polling()"
      ],
      "metadata": {
        "id": "CkBK5E5psL7O"
      },
      "execution_count": null,
      "outputs": []
    },
    {
      "cell_type": "code",
      "source": [
        "help(datetime)"
      ],
      "metadata": {
        "id": "1OImzbsWjeLG"
      },
      "execution_count": null,
      "outputs": []
    },
    {
      "cell_type": "code",
      "source": [
        "b=datetime.now()\n",
        "b"
      ],
      "metadata": {
        "colab": {
          "base_uri": "https://localhost:8080/"
        },
        "id": "CIOQBwGDj5aD",
        "outputId": "6fc7d9f6-2418-4685-b09d-9efa9502f8d5"
      },
      "execution_count": null,
      "outputs": [
        {
          "output_type": "execute_result",
          "data": {
            "text/plain": [
              "datetime.datetime(2025, 7, 3, 21, 20, 54, 438785)"
            ]
          },
          "metadata": {},
          "execution_count": 7
        }
      ]
    },
    {
      "cell_type": "code",
      "source": [],
      "metadata": {
        "id": "81hHWYtorxTH"
      },
      "execution_count": null,
      "outputs": []
    },
    {
      "cell_type": "code",
      "source": [
        "def calculate_age(birthdate):\n",
        "    \"\"\"\n",
        "    Рассчитывает возраст в годах по дате рождения.\n",
        "\n",
        "    Аргументы:\n",
        "        birthdate: Дата рождения в формате datetime.date.\n",
        "\n",
        "    Возвращает:\n",
        "        Возраст в годах (int).\n",
        "    \"\"\"\n",
        "    today = datetime.now().date()\n",
        "    age_years = relativedelta(today, birthdate).years\n",
        "    age_months = relativedelta(today, birthdate).months\n",
        "    age = relativedelta(today, birthdate)\n",
        "    return age\n",
        "    return age_years\n",
        "    return age_months"
      ],
      "metadata": {
        "id": "yE2xAvWSlW0N"
      },
      "execution_count": null,
      "outputs": []
    },
    {
      "cell_type": "code",
      "source": [
        "birthdate_str = \"1939-12-24\"\n",
        "birthdate_str =input('Введите дату рождения в формате - дд.мм.гггг: ' )\n",
        "birthdate = datetime.strptime(birthdate_str, \"%d.%m.%Y\").date()\n",
        "age = calculate_age(birthdate)\n",
        "age_years = calculate_age(birthdate).years\n",
        "age_months = calculate_age(birthdate).months\n",
        "if age_years == 1:\n",
        "  print(f'Возраст: {age_years} год  {age_months} мес.')\n",
        "if 2 <= age_years <= 4:\n",
        "  print(f'Возраст: {age_years} года  {age_months} мес.')\n",
        "if 5 <= age_years <= 20:\n",
        "  print(f'Возраст: {age_years} лет  {age_months} мес.')\n",
        "if age_years % 10 == 1 and age_years >20:\n",
        "  print(f'Возраст: {age_years} год  {age_months} мес.')\n",
        "if 2 <= age_years % 10 <= 4 and age_years >20:\n",
        "  print(f'Возраст: {age_years} года  {age_months} мес.')\n",
        "if 5 <= age_years % 10 <= 9 and age_years > 20:\n",
        "  print(f'Возраст: {age_years} лет  {age_months} мес.')\n",
        "if age_years % 10 == 0 and age_years > 20:\n",
        "  print(f'Возраст: {age_years} лет  {age_months} мес.')"
      ],
      "metadata": {
        "colab": {
          "base_uri": "https://localhost:8080/"
        },
        "id": "V-s9W0ACbCei",
        "outputId": "097352ca-8887-4ab3-8b31-483b249e12ea"
      },
      "execution_count": null,
      "outputs": [
        {
          "output_type": "stream",
          "name": "stdout",
          "text": [
            "Введите дату рождения в формате - дд.мм.гггг: 03.06.2016\n",
            "Возраст: 9 лет  1 мес.\n"
          ]
        }
      ]
    },
    {
      "cell_type": "code",
      "source": [
        "birthdate_str = \"1939-12-24\"\n",
        "birthdate_str =input('Введите дату рождения в формате - дд.мм.гггг: ' )\n",
        "birthdate = datetime.strptime(birthdate_str, \"%d.%m.%Y\").date()\n",
        "age = calculate_age(birthdate)\n",
        "age_years = calculate_age(birthdate).years\n",
        "age_months = calculate_age(birthdate).months\n",
        "if age_years == 1:\n",
        "  print(f'Возраст: {age_years} год  {age_months} мес.')\n",
        "  if 2 <= age_years <= 4:\n",
        "    print(f'Возраст: {age_years} года  {age_months} мес.')\n",
        "    if 5 <= age_years <= 20:\n",
        "      print(f'Возраст: {age_years} лет  {age_months} мес.')\n",
        "      if age_years % 10 == 1 and age_years >20:\n",
        "        print(f'Возраст: {age_years} год  {age_months} мес.')\n",
        "        if 2 <= age_years % 10 <= 4 and age_years >20:\n",
        "          print(f'Возраст: {age_years} года  {age_months} мес.')\n",
        "else:\n",
        "  print(f'Возраст: {age_years} лет  {age_months} мес.')"
      ],
      "metadata": {
        "colab": {
          "base_uri": "https://localhost:8080/"
        },
        "id": "zK_lFxiyYIUu",
        "outputId": "336acf3a-8162-48be-9733-67057ae79b21"
      },
      "execution_count": null,
      "outputs": [
        {
          "output_type": "stream",
          "name": "stdout",
          "text": [
            "Введите дату рождения в формате - дд.мм.гггг: 24.12.1940\n",
            "Возраст: 84 лет  6 мес.\n"
          ]
        }
      ]
    },
    {
      "cell_type": "code",
      "source": [
        "# Пример использованияprint(f'Возраст: {age_years} лет  {age_months} мес.')\n",
        "birthdate_str = \"1939-12-24\"\n",
        "birthdate = datetime.strptime(birthdate_str, \"%Y-%m-%d\").date()\n",
        "age = calculate_age(birthdate)\n",
        "age_years = calculate_age(birthdate).years\n",
        "age_months = calculate_age(birthdate).months\n",
        "if age_years == 1:\n",
        "  print(f'Возраст: {age_years} год  {age_months} мес.')\n",
        "if 2 <= age_years <= 4:\n",
        "  print(f'Возраст: {age_years} года  {age_months} мес.')\n",
        "if 5 <= age_years <= 20:\n",
        "  print(f'Возраст: {age_years} лет  {age_months} мес.')\n",
        "if age_years % 10 == 1 and age_years >20:\n",
        "  print(f'Возраст: {age_years} год  {age_months} мес.')\n",
        "if 2 <= age_years % 10 <= 4 and age_years >20:\n",
        "  print(f'Возраст: {age_years} года  {age_months} мес.')\n",
        "else:\n",
        "  print(f'Возраст: {age_years} лет  {age_months} мес.')\n",
        "print(f\"Возраст: {age} лет\")\n",
        "# print(f'Возраст: {age_years} лет  {age_months} мес.')\n",
        "print(type(age_years))"
      ],
      "metadata": {
        "colab": {
          "base_uri": "https://localhost:8080/"
        },
        "id": "nyqHHYrGmOMI",
        "outputId": "e37598d2-1a2e-4b1f-96b5-88707673d73a"
      },
      "execution_count": null,
      "outputs": [
        {
          "output_type": "stream",
          "name": "stdout",
          "text": [
            "Возраст: 85 лет  6 мес.\n",
            "Возраст: relativedelta(years=+85, months=+6, days=+9) лет\n",
            "<class 'int'>\n"
          ]
        }
      ]
    },
    {
      "cell_type": "markdown",
      "source": [
        "* 1 год\n",
        "* 2 года\n",
        "* 3 года\n",
        "* 4 года\n",
        "* 5 лет\n",
        "* 6 лет\n",
        "* 7 лет\n",
        "* 8 лет\n",
        "* 9 лет\n",
        "* 10 лет\n",
        "* 11 лет\n",
        "* 12 лет\n",
        "* 13 лет\n",
        "* 14 лет\n",
        "* 15 лет\n",
        "* 16 лет\n",
        "* 17 лет\n",
        "* 18 лет\n",
        "* 19 лет\n",
        "* 20 лет\n",
        "* 21 год\n",
        "* 22 года\n",
        "* 23 года\n",
        "* 24 года\n",
        "* 25 лет"
      ],
      "metadata": {
        "id": "fw2wc3n2NXHm"
      }
    },
    {
      "cell_type": "code",
      "source": [
        "# Пример с текущей датой\n",
        "today = datetime.now().date()\n",
        "age = calculate_age(today)\n",
        "print(f\"Возраст: {age} лет\")"
      ],
      "metadata": {
        "colab": {
          "base_uri": "https://localhost:8080/"
        },
        "id": "ENH2PPCGlJtB",
        "outputId": "f77d2133-8df2-4da0-94e3-82c94da04224"
      },
      "execution_count": null,
      "outputs": [
        {
          "output_type": "stream",
          "name": "stdout",
          "text": [
            "Возраст: 0 лет\n"
          ]
        }
      ]
    }
  ]
}