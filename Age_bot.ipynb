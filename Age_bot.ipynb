{
  "nbformat": 4,
  "nbformat_minor": 0,
  "metadata": {
    "colab": {
      "provenance": [],
      "authorship_tag": "ABX9TyNl4u5t7iASiZh7Ikl66Jok",
      "include_colab_link": true
    },
    "kernelspec": {
      "name": "python3",
      "display_name": "Python 3"
    },
    "language_info": {
      "name": "python"
    }
  },
  "cells": [
    {
      "cell_type": "markdown",
      "metadata": {
        "id": "view-in-github",
        "colab_type": "text"
      },
      "source": [
        "<a href=\"https://colab.research.google.com/github/MaximTislenko/Acspect_patronum/blob/main/Age_bot.ipynb\" target=\"_parent\"><img src=\"https://colab.research.google.com/assets/colab-badge.svg\" alt=\"Open In Colab\"/></a>"
      ]
    },
    {
      "cell_type": "code",
      "execution_count": 14,
      "metadata": {
        "colab": {
          "base_uri": "https://localhost:8080/"
        },
        "id": "90gu9o9F3nJG",
        "outputId": "04c89769-9f36-4328-db49-62040306ef0d"
      },
      "outputs": [
        {
          "output_type": "stream",
          "name": "stdout",
          "text": [
            "Requirement already satisfied: aiogram in /usr/local/lib/python3.10/dist-packages (3.12.0)\n",
            "Requirement already satisfied: aiofiles~=23.2.1 in /usr/local/lib/python3.10/dist-packages (from aiogram) (23.2.1)\n",
            "Requirement already satisfied: aiohttp<3.11,>=3.9.0 in /usr/local/lib/python3.10/dist-packages (from aiogram) (3.10.2)\n",
            "Requirement already satisfied: certifi>=2023.7.22 in /usr/local/lib/python3.10/dist-packages (from aiogram) (2024.7.4)\n",
            "Requirement already satisfied: magic-filter<1.1,>=1.0.12 in /usr/local/lib/python3.10/dist-packages (from aiogram) (1.0.12)\n",
            "Requirement already satisfied: pydantic<2.9,>=2.4.1 in /usr/local/lib/python3.10/dist-packages (from aiogram) (2.8.2)\n",
            "Requirement already satisfied: typing-extensions<=5.0,>=4.7.0 in /usr/local/lib/python3.10/dist-packages (from aiogram) (4.12.2)\n",
            "Requirement already satisfied: aiohappyeyeballs>=2.3.0 in /usr/local/lib/python3.10/dist-packages (from aiohttp<3.11,>=3.9.0->aiogram) (2.3.5)\n",
            "Requirement already satisfied: aiosignal>=1.1.2 in /usr/local/lib/python3.10/dist-packages (from aiohttp<3.11,>=3.9.0->aiogram) (1.3.1)\n",
            "Requirement already satisfied: attrs>=17.3.0 in /usr/local/lib/python3.10/dist-packages (from aiohttp<3.11,>=3.9.0->aiogram) (24.2.0)\n",
            "Requirement already satisfied: frozenlist>=1.1.1 in /usr/local/lib/python3.10/dist-packages (from aiohttp<3.11,>=3.9.0->aiogram) (1.4.1)\n",
            "Requirement already satisfied: multidict<7.0,>=4.5 in /usr/local/lib/python3.10/dist-packages (from aiohttp<3.11,>=3.9.0->aiogram) (6.0.5)\n",
            "Requirement already satisfied: yarl<2.0,>=1.0 in /usr/local/lib/python3.10/dist-packages (from aiohttp<3.11,>=3.9.0->aiogram) (1.9.4)\n",
            "Requirement already satisfied: async-timeout<5.0,>=4.0 in /usr/local/lib/python3.10/dist-packages (from aiohttp<3.11,>=3.9.0->aiogram) (4.0.3)\n",
            "Requirement already satisfied: annotated-types>=0.4.0 in /usr/local/lib/python3.10/dist-packages (from pydantic<2.9,>=2.4.1->aiogram) (0.7.0)\n",
            "Requirement already satisfied: pydantic-core==2.20.1 in /usr/local/lib/python3.10/dist-packages (from pydantic<2.9,>=2.4.1->aiogram) (2.20.1)\n",
            "Requirement already satisfied: idna>=2.0 in /usr/local/lib/python3.10/dist-packages (from yarl<2.0,>=1.0->aiohttp<3.11,>=3.9.0->aiogram) (3.7)\n"
          ]
        }
      ],
      "source": [
        "pip install aiogram"
      ]
    },
    {
      "cell_type": "code",
      "source": [
        "import time\n",
        "import logging\n",
        "# from aiogram import Bot, Dispatcher, executor, types"
      ],
      "metadata": {
        "id": "Y1DHrfVt5kZV"
      },
      "execution_count": 17,
      "outputs": []
    },
    {
      "cell_type": "code",
      "source": [
        "import aiogram"
      ],
      "metadata": {
        "id": "Wz0NgQxc429m"
      },
      "execution_count": 16,
      "outputs": []
    },
    {
      "cell_type": "code",
      "source": [
        "TOKEN = \"7034690129:AAGWxyn93bL8ekYWen7tZmceWQTeaAIcvHo\"\n",
        "MSG = \"Привет, {}\""
      ],
      "metadata": {
        "id": "mQ9rH-fb9fLe"
      },
      "execution_count": 9,
      "outputs": []
    },
    {
      "cell_type": "code",
      "source": [
        "bot = aiogram.Bot(token= TOKEN)\n",
        "dp = aiogram.Dispatcher(bot= bot)\n",
        "@dp.massage_handler(commands = ['/start'])\n",
        "async def start_handler(masage:types.Message):\n",
        "  user_id = message.from_user.id\n",
        "  user_name = message.from_user.first_name\n",
        "  user_full_name = message.from_user.full_name\n",
        "  logging.info(f'{user_id=} {user_full_name=} {time.asctime()}')\n",
        "  await message.reply(f\"Привет, {user_full_name}\")\n",
        "\n",
        "  for i in range(10):\n",
        "    time.sleep(10)\n",
        "    await bot.send_message(user_id, MSG.format(user_name))\n",
        "\n",
        "if __name__ == '__main__':\n",
        "  aiogram.executor.start_polling(dp)"
      ],
      "metadata": {
        "id": "M6EJdg2B9tLN"
      },
      "execution_count": null,
      "outputs": []
    },
    {
      "cell_type": "code",
      "source": [
        "bot = Bot(token= TOKEN)\n",
        "dp = Dispatcher(bot= bot)\n",
        "@dp.massage_handler(commands = ['/start'])\n",
        "async def start_handler(masage:types.Message):\n",
        "  user_id = message.from_user.id\n",
        "  user_name = message.from_user.first_name\n",
        "  user_full_name = message.from_user.full_name\n",
        "  logging.info(f'{user_id=} {user_full_name=} {time.asctime()}')\n",
        "  await message.reply(f\"Привет, {user_full_name}\")\n",
        "\n",
        "  for i in range(10):\n",
        "    time.sleep(10)\n",
        "    await bot.send_message(user_id, MSG.format(user_name))\n",
        "\n",
        "if __name__ == '__main__':\n",
        "  executor.start_polling(dp)"
      ],
      "metadata": {
        "id": "mZzAe5D3KRUU"
      },
      "execution_count": null,
      "outputs": []
    }
  ]
}