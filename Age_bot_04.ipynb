{
  "nbformat": 4,
  "nbformat_minor": 0,
  "metadata": {
    "colab": {
      "provenance": [],
      "authorship_tag": "ABX9TyOg3icETpneXBhcESOG0hy+",
      "include_colab_link": true
    },
    "kernelspec": {
      "name": "python3",
      "display_name": "Python 3"
    },
    "language_info": {
      "name": "python"
    }
  },
  "cells": [
    {
      "cell_type": "markdown",
      "metadata": {
        "id": "view-in-github",
        "colab_type": "text"
      },
      "source": [
        "<a href=\"https://colab.research.google.com/github/MaximTislenko/Acspect_patronum/blob/main/Age_bot_04.ipynb\" target=\"_parent\"><img src=\"https://colab.research.google.com/assets/colab-badge.svg\" alt=\"Open In Colab\"/></a>"
      ]
    },
    {
      "cell_type": "code",
      "source": [
        "!pip install telebot"
      ],
      "metadata": {
        "colab": {
          "base_uri": "https://localhost:8080/"
        },
        "id": "0GYJX2FQg87Q",
        "outputId": "59828069-a2cb-4ebf-9f13-ce24ddd5cd0c"
      },
      "execution_count": null,
      "outputs": [
        {
          "output_type": "stream",
          "name": "stdout",
          "text": [
            "Collecting telebot\n",
            "  Downloading telebot-0.0.5-py3-none-any.whl.metadata (2.0 kB)\n",
            "Collecting pyTelegramBotAPI (from telebot)\n",
            "  Downloading pytelegrambotapi-4.23.0-py3-none-any.whl.metadata (48 kB)\n",
            "\u001b[2K     \u001b[90m━━━━━━━━━━━━━━━━━━━━━━━━━━━━━━━━━━━━━━━━\u001b[0m \u001b[32m48.2/48.2 kB\u001b[0m \u001b[31m1.9 MB/s\u001b[0m eta \u001b[36m0:00:00\u001b[0m\n",
            "\u001b[?25hRequirement already satisfied: requests in /usr/local/lib/python3.10/dist-packages (from telebot) (2.32.3)\n",
            "Requirement already satisfied: charset-normalizer<4,>=2 in /usr/local/lib/python3.10/dist-packages (from requests->telebot) (3.3.2)\n",
            "Requirement already satisfied: idna<4,>=2.5 in /usr/local/lib/python3.10/dist-packages (from requests->telebot) (3.10)\n",
            "Requirement already satisfied: urllib3<3,>=1.21.1 in /usr/local/lib/python3.10/dist-packages (from requests->telebot) (2.2.3)\n",
            "Requirement already satisfied: certifi>=2017.4.17 in /usr/local/lib/python3.10/dist-packages (from requests->telebot) (2024.8.30)\n",
            "Downloading telebot-0.0.5-py3-none-any.whl (4.8 kB)\n",
            "Downloading pytelegrambotapi-4.23.0-py3-none-any.whl (263 kB)\n",
            "\u001b[2K   \u001b[90m━━━━━━━━━━━━━━━━━━━━━━━━━━━━━━━━━━━━━━━━\u001b[0m \u001b[32m263.3/263.3 kB\u001b[0m \u001b[31m6.9 MB/s\u001b[0m eta \u001b[36m0:00:00\u001b[0m\n",
            "\u001b[?25hInstalling collected packages: pyTelegramBotAPI, telebot\n",
            "Successfully installed pyTelegramBotAPI-4.23.0 telebot-0.0.5\n"
          ]
        }
      ]
    },
    {
      "cell_type": "code",
      "source": [
        "import telebot\n",
        "import datetime\n",
        "\n",
        "bot = telebot.TeleBot('')\n",
        "\n",
        "\n",
        "@bot.message_handler(commands=[\"help\", \"start\"])\n",
        "def send_welcome(message):\n",
        "    bot.send_message(message.chat.id, \"Enter your birthdate (dd-mm-yyyy):\")\n",
        "\n",
        "\n",
        "@bot.message_handler(content_types=[\"text\"])\n",
        "def handle_text(message):\n",
        "    birthdate = message.text\n",
        "    birthdate_d = datetime.datetime.strptime(birthdate, '%d.%m.%Y')\n",
        "    today = datetime.date.today()\n",
        "    age_y = today.year - birthdate_d.year\n",
        "    age_m = today.month - birthdate_d.month\n",
        "    age_d = today.day - birthdate_d.day\n",
        "\n",
        "    if age_m == 12:\n",
        "      age_y = age_y + 1\n",
        "      age_m = age_m - 12\n",
        "    if today.month - birthdate_d.month <= 0:\n",
        "      age_y = age_y - 1\n",
        "      age_m = age_m + 12\n",
        "    if today.daage_m + 12\n",
        "    if today.day - birthdate_d.day <= 0:\n",
        "      age_m = age_m - 1\n",
        "      age_d = age_d + 30\n",
        "\n",
        "\n",
        "    bot.send_message(chat_id=message.chat.id, text=f'Тебе сейчас: {age_y} лет, {age_m} месяцев, {age_d} дней'.format(age_y=age_y, age_m=age_m, age_d=age_d))\n",
        "\n",
        "bot.infinity_polling()"
      ],
      "metadata": {
        "colab": {
          "base_uri": "https://localhost:8080/"
        },
        "id": "UbpyUAfC5ABc",
        "outputId": "8fea69d3-b860-4825-ec32-fa5775551b3c"
      },
      "execution_count": null,
      "outputs": [
        {
          "output_type": "stream",
          "name": "stderr",
          "text": [
            "2024-09-25 20:48:26,283 (__init__.py:1115 MainThread) ERROR - TeleBot: \"Infinity polling exception: time data '24-12-1976' does not match format '%d.%m.%Y'\"\n",
            "ERROR:TeleBot:Infinity polling exception: time data '24-12-1976' does not match format '%d.%m.%Y'\n",
            "2024-09-25 20:48:26,287 (__init__.py:1117 MainThread) ERROR - TeleBot: \"Exception traceback:\n",
            "Traceback (most recent call last):\n",
            "  File \"/usr/local/lib/python3.10/dist-packages/telebot/__init__.py\", line 1110, in infinity_polling\n",
            "    self.polling(non_stop=True, timeout=timeout, long_polling_timeout=long_polling_timeout,\n",
            "  File \"/usr/local/lib/python3.10/dist-packages/telebot/__init__.py\", line 1198, in polling\n",
            "    self.__threaded_polling(non_stop=non_stop, interval=interval, timeout=timeout, long_polling_timeout=long_polling_timeout,\n",
            "  File \"/usr/local/lib/python3.10/dist-packages/telebot/__init__.py\", line 1273, in __threaded_polling\n",
            "    raise e\n",
            "  File \"/usr/local/lib/python3.10/dist-packages/telebot/__init__.py\", line 1235, in __threaded_polling\n",
            "    self.worker_pool.raise_exceptions()\n",
            "  File \"/usr/local/lib/python3.10/dist-packages/telebot/util.py\", line 150, in raise_exceptions\n",
            "    raise self.exception_info\n",
            "  File \"/usr/local/lib/python3.10/dist-packages/telebot/util.py\", line 93, in run\n",
            "    task(*args, **kwargs)\n",
            "  File \"/usr/local/lib/python3.10/dist-packages/telebot/__init__.py\", line 8945, in _run_middlewares_and_handler\n",
            "    result = handler['function'](message)\n",
            "  File \"<ipython-input-7-420c41070734>\", line 15, in handle_text\n",
            "    birthdate_d = datetime.datetime.strptime(birthdate, '%d.%m.%Y')\n",
            "  File \"/usr/lib/python3.10/_strptime.py\", line 568, in _strptime_datetime\n",
            "    tt, fraction, gmtoff_fraction = _strptime(data_string, format)\n",
            "  File \"/usr/lib/python3.10/_strptime.py\", line 349, in _strptime\n",
            "    raise ValueError(\"time data %r does not match format %r\" %\n",
            "ValueError: time data '24-12-1976' does not match format '%d.%m.%Y'\n",
            "\"\n",
            "ERROR:TeleBot:Exception traceback:\n",
            "Traceback (most recent call last):\n",
            "  File \"/usr/local/lib/python3.10/dist-packages/telebot/__init__.py\", line 1110, in infinity_polling\n",
            "    self.polling(non_stop=True, timeout=timeout, long_polling_timeout=long_polling_timeout,\n",
            "  File \"/usr/local/lib/python3.10/dist-packages/telebot/__init__.py\", line 1198, in polling\n",
            "    self.__threaded_polling(non_stop=non_stop, interval=interval, timeout=timeout, long_polling_timeout=long_polling_timeout,\n",
            "  File \"/usr/local/lib/python3.10/dist-packages/telebot/__init__.py\", line 1273, in __threaded_polling\n",
            "    raise e\n",
            "  File \"/usr/local/lib/python3.10/dist-packages/telebot/__init__.py\", line 1235, in __threaded_polling\n",
            "    self.worker_pool.raise_exceptions()\n",
            "  File \"/usr/local/lib/python3.10/dist-packages/telebot/util.py\", line 150, in raise_exceptions\n",
            "    raise self.exception_info\n",
            "  File \"/usr/local/lib/python3.10/dist-packages/telebot/util.py\", line 93, in run\n",
            "    task(*args, **kwargs)\n",
            "  File \"/usr/local/lib/python3.10/dist-packages/telebot/__init__.py\", line 8945, in _run_middlewares_and_handler\n",
            "    result = handler['function'](message)\n",
            "  File \"<ipython-input-7-420c41070734>\", line 15, in handle_text\n",
            "    birthdate_d = datetime.datetime.strptime(birthdate, '%d.%m.%Y')\n",
            "  File \"/usr/lib/python3.10/_strptime.py\", line 568, in _strptime_datetime\n",
            "    tt, fraction, gmtoff_fraction = _strptime(data_string, format)\n",
            "  File \"/usr/lib/python3.10/_strptime.py\", line 349, in _strptime\n",
            "    raise ValueError(\"time data %r does not match format %r\" %\n",
            "ValueError: time data '24-12-1976' does not match format '%d.%m.%Y'\n",
            "\n",
            "2024-09-25 20:50:51,466 (__init__.py:1115 MainThread) ERROR - TeleBot: \"Infinity polling exception: day is out of range for month\"\n",
            "ERROR:TeleBot:Infinity polling exception: day is out of range for month\n",
            "2024-09-25 20:50:51,475 (__init__.py:1117 MainThread) ERROR - TeleBot: \"Exception traceback:\n",
            "Traceback (most recent call last):\n",
            "  File \"/usr/local/lib/python3.10/dist-packages/telebot/__init__.py\", line 1110, in infinity_polling\n",
            "    self.polling(non_stop=True, timeout=timeout, long_polling_timeout=long_polling_timeout,\n",
            "  File \"/usr/local/lib/python3.10/dist-packages/telebot/__init__.py\", line 1198, in polling\n",
            "    self.__threaded_polling(non_stop=non_stop, interval=interval, timeout=timeout, long_polling_timeout=long_polling_timeout,\n",
            "  File \"/usr/local/lib/python3.10/dist-packages/telebot/__init__.py\", line 1273, in __threaded_polling\n",
            "    raise e\n",
            "  File \"/usr/local/lib/python3.10/dist-packages/telebot/__init__.py\", line 1235, in __threaded_polling\n",
            "    self.worker_pool.raise_exceptions()\n",
            "  File \"/usr/local/lib/python3.10/dist-packages/telebot/util.py\", line 150, in raise_exceptions\n",
            "    raise self.exception_info\n",
            "  File \"/usr/local/lib/python3.10/dist-packages/telebot/util.py\", line 93, in run\n",
            "    task(*args, **kwargs)\n",
            "  File \"/usr/local/lib/python3.10/dist-packages/telebot/__init__.py\", line 8945, in _run_middlewares_and_handler\n",
            "    result = handler['function'](message)\n",
            "  File \"<ipython-input-7-420c41070734>\", line 15, in handle_text\n",
            "    birthdate_d = datetime.datetime.strptime(birthdate, '%d.%m.%Y')\n",
            "  File \"/usr/lib/python3.10/_strptime.py\", line 568, in _strptime_datetime\n",
            "    tt, fraction, gmtoff_fraction = _strptime(data_string, format)\n",
            "  File \"/usr/lib/python3.10/_strptime.py\", line 534, in _strptime\n",
            "    julian = datetime_date(year, month, day).toordinal() - \\\n",
            "ValueError: day is out of range for month\n",
            "\"\n",
            "ERROR:TeleBot:Exception traceback:\n",
            "Traceback (most recent call last):\n",
            "  File \"/usr/local/lib/python3.10/dist-packages/telebot/__init__.py\", line 1110, in infinity_polling\n",
            "    self.polling(non_stop=True, timeout=timeout, long_polling_timeout=long_polling_timeout,\n",
            "  File \"/usr/local/lib/python3.10/dist-packages/telebot/__init__.py\", line 1198, in polling\n",
            "    self.__threaded_polling(non_stop=non_stop, interval=interval, timeout=timeout, long_polling_timeout=long_polling_timeout,\n",
            "  File \"/usr/local/lib/python3.10/dist-packages/telebot/__init__.py\", line 1273, in __threaded_polling\n",
            "    raise e\n",
            "  File \"/usr/local/lib/python3.10/dist-packages/telebot/__init__.py\", line 1235, in __threaded_polling\n",
            "    self.worker_pool.raise_exceptions()\n",
            "  File \"/usr/local/lib/python3.10/dist-packages/telebot/util.py\", line 150, in raise_exceptions\n",
            "    raise self.exception_info\n",
            "  File \"/usr/local/lib/python3.10/dist-packages/telebot/util.py\", line 93, in run\n",
            "    task(*args, **kwargs)\n",
            "  File \"/usr/local/lib/python3.10/dist-packages/telebot/__init__.py\", line 8945, in _run_middlewares_and_handler\n",
            "    result = handler['function'](message)\n",
            "  File \"<ipython-input-7-420c41070734>\", line 15, in handle_text\n",
            "    birthdate_d = datetime.datetime.strptime(birthdate, '%d.%m.%Y')\n",
            "  File \"/usr/lib/python3.10/_strptime.py\", line 568, in _strptime_datetime\n",
            "    tt, fraction, gmtoff_fraction = _strptime(data_string, format)\n",
            "  File \"/usr/lib/python3.10/_strptime.py\", line 534, in _strptime\n",
            "    julian = datetime_date(year, month, day).toordinal() - \\\n",
            "ValueError: day is out of range for month\n",
            "\n",
            "2024-09-25 20:53:01,180 (__init__.py:1121 MainThread) ERROR - TeleBot: \"Infinity polling: polling exited\"\n",
            "ERROR:TeleBot:Infinity polling: polling exited\n",
            "2024-09-25 20:53:01,184 (__init__.py:1123 MainThread) ERROR - TeleBot: \"Break infinity polling\"\n",
            "ERROR:TeleBot:Break infinity polling\n"
          ]
        }
      ]
    }
  ]
}